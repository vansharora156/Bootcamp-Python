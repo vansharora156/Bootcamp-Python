{
 "cells": [
  {
   "cell_type": "markdown",
   "metadata": {},
   "source": [
    "# Tkinter"
   ]
  },
  {
   "cell_type": "code",
   "execution_count": 1,
   "metadata": {},
   "outputs": [],
   "source": [
    "from tkinter import *\n",
    "root = Tk()\n",
    "\n",
    "# Creating a Label Widget\n",
    "myLabel = Label(root,text=\"Hi Everyone!\")\n",
    "# Shoving it onto the screen\n",
    "myLabel.pack()\n",
    "\n",
    "root.mainloop()"
   ]
  },
  {
   "cell_type": "code",
   "execution_count": 3,
   "metadata": {},
   "outputs": [],
   "source": [
    "from tkinter import * \n",
    "root = Tk()\n",
    "myLabel1= Label(root,text = \"Hi Everyone\").grid(row=0,column=0)\n",
    "myLabel2=Label(root,text=\"Myself Vansh Arora\").grid(row=1,column=0)\n",
    "myLabel3= Label(root, text=\"I'm pursuing BTech CSE with AI and DE\").grid(row=2,column=0)\n",
    "\n",
    "root.mainloop()"
   ]
  },
  {
   "cell_type": "code",
   "execution_count": 6,
   "metadata": {},
   "outputs": [],
   "source": [
    "from tkinter import *\n",
    "root =Tk()\n",
    "def myClick():\n",
    "    myLabel=Label(root,text=\"You clicked the button recently\")\n",
    "    myLabel.pack()\n",
    "\n",
    "myButton= Button(root,text=\"Click Me!\",command=myClick,fg=\"blue\",bg=\"white\")\n",
    "myButton.pack()\n",
    "root.mainloop()"
   ]
  },
  {
   "cell_type": "code",
   "execution_count": 7,
   "metadata": {},
   "outputs": [],
   "source": [
    "from tkinter import *\n",
    "root =Tk()\n",
    "myButton= Button(root,text=\"Tap Me\",padx=50,pady=30)\n",
    "myButton.pack()\n",
    "root.mainloop()"
   ]
  },
  {
   "cell_type": "code",
   "execution_count": 15,
   "metadata": {},
   "outputs": [],
   "source": [
    "# Input Boxes:-\n",
    "from tkinter import *\n",
    "root =Tk()\n",
    "\n",
    "e= Entry(root,width=50,borderwidth=5)\n",
    "e.pack()\n",
    "e.insert(0,\"Enter your name\")\n",
    "def myClick():\n",
    "    text =\"Good Morning \" + e.get()\n",
    "    myLabel=Label(root,text=text)\n",
    "    myLabel.pack()\n",
    "\n",
    "myButton= Button(root,text=\"Enter Your Name\",command=myClick,fg=\"blue\",bg=\"red\")\n",
    "myButton.pack()\n",
    "root.mainloop()"
   ]
  },
  {
   "cell_type": "markdown",
   "metadata": {},
   "source": [
    "# Program to create a calculator:-"
   ]
  },
  {
   "cell_type": "code",
   "execution_count": null,
   "metadata": {},
   "outputs": [],
   "source": [
    "from tkinter import *\n",
    "\n",
    "root = Tk()\n",
    "root.title(\"Simple Calculator\")\n",
    "\n",
    "e = Entry(root, width=35, borderwidth=5)\n",
    "e.grid(row=0, column=0, columnspan=3, padx=10, pady=10)\n",
    "\n",
    "def button_click(number):\n",
    "    current = e.get()\n",
    "    e.delete(0, END)\n",
    "    e.insert(0, str(current) + str(number))\n",
    "\n",
    "def button_clear():\n",
    "    e.delete(0, END)\n",
    "\n",
    "def button_addition():\n",
    "    first_number = e.get()\n",
    "    global f_num\n",
    "    global math\n",
    "    math = \"addition\"\n",
    "    f_num = int(first_number)\n",
    "    e.delete(0, END)\n",
    "\n",
    "def button_equal():\n",
    "    second_number = e.get()\n",
    "    e.delete(0, END)\n",
    "    \n",
    "    if math == \"addition\":\n",
    "        e.insert(0, f_num + int(second_number))\n",
    "\n",
    "# Create buttons\n",
    "button_1 = Button(root, text=\"1\", padx=40, pady=20, command=lambda: button_click(1))\n",
    "button_2 = Button(root, text=\"2\", padx=40, pady=20, command=lambda: button_click(2))\n",
    "button_3 = Button(root, text=\"3\", padx=40, pady=20, command=lambda: button_click(3))\n",
    "button_4 = Button(root, text=\"4\", padx=40, pady=20, command=lambda: button_click(4))\n",
    "button_5 = Button(root, text=\"5\", padx=40, pady=20, command=lambda: button_click(5))\n",
    "button_6 = Button(root, text=\"6\", padx=40, pady=20, command=lambda: button_click(6))\n",
    "button_7 = Button(root, text=\"7\", padx=40, pady=20, command=lambda: button_click(7))\n",
    "button_8 = Button(root, text=\"8\", padx=40, pady=20, command=lambda: button_click(8))\n",
    "button_9 = Button(root, text=\"9\", padx=40, pady=20, command=lambda: button_click(9))\n",
    "button_0 = Button(root, text=\"0\", padx=40, pady=20, command=lambda: button_click(0))\n",
    "button_addition = Button(root, text=\"+\", padx=39, pady=20, command=button_addition)\n",
    "button_equal = Button(root, text=\"=\", padx=91, pady=20, command=button_equal)\n",
    "button_clear = Button(root, text=\"Clear\", padx=79, pady=20, command=button_clear)\n",
    "\n",
    "# Put buttons on the screen\n",
    "button_1.grid(row=3, column=0)\n",
    "button_2.grid(row=3, column=1)\n",
    "button_3.grid(row=3, column=2)\n",
    "\n",
    "button_4.grid(row=2, column=0)\n",
    "button_5.grid(row=2, column=1)\n",
    "button_6.grid(row=2, column=2)\n",
    "\n",
    "button_7.grid(row=1, column=0)\n",
    "button_8.grid(row=1, column=1)\n",
    "button_9.grid(row=1, column=2)\n",
    "\n",
    "button_0.grid(row=4, column=0)\n",
    "button_clear.grid(row=4, column=1, columnspan=2)\n",
    "button_addition.grid(row=5, column=0)\n",
    "button_equal.grid(row=5, column=1, columnspan=2)\n",
    "\n",
    "root.mainloop()\n"
   ]
  }
 ],
 "metadata": {
  "kernelspec": {
   "display_name": "Python 3",
   "language": "python",
   "name": "python3"
  },
  "language_info": {
   "codemirror_mode": {
    "name": "ipython",
    "version": 3
   },
   "file_extension": ".py",
   "mimetype": "text/x-python",
   "name": "python",
   "nbconvert_exporter": "python",
   "pygments_lexer": "ipython3",
   "version": "3.11.4"
  }
 },
 "nbformat": 4,
 "nbformat_minor": 2
}
