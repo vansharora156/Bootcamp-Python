{
 "cells": [
  {
   "cell_type": "markdown",
   "metadata": {},
   "source": [
    "# Numpy:-"
   ]
  },
  {
   "cell_type": "markdown",
   "metadata": {},
   "source": [
    "# Array Manipulation:-"
   ]
  },
  {
   "cell_type": "markdown",
   "metadata": {},
   "source": [
    "1. Reshaping Arrays:-"
   ]
  },
  {
   "cell_type": "code",
   "execution_count": 1,
   "metadata": {},
   "outputs": [
    {
     "name": "stdout",
     "output_type": "stream",
     "text": [
      "Original array:\n",
      "[ 0  1  2  3  4  5  6  7  8  9 10 11]\n",
      "\n",
      "Reshaped array (3x4 matrix):\n",
      "[[ 0  1  2  3]\n",
      " [ 4  5  6  7]\n",
      " [ 8  9 10 11]]\n",
      "\n",
      "Reshaped array (6x2 matrix):\n",
      "[[ 0  1]\n",
      " [ 2  3]\n",
      " [ 4  5]\n",
      " [ 6  7]\n",
      " [ 8  9]\n",
      " [10 11]]\n"
     ]
    }
   ],
   "source": [
    "import numpy as np\n",
    "arr = np.arange(12) \n",
    "print(\"Original array:\")\n",
    "print(arr)\n",
    "\n",
    "arr_reshaped = arr.reshape(3, 4)\n",
    "print(\"\\nReshaped array (3x4 matrix):\")\n",
    "print(arr_reshaped)\n",
    "\n",
    "arr_reshaped_2d = arr.reshape(6, 2)\n",
    "print(\"\\nReshaped array (6x2 matrix):\")\n",
    "print(arr_reshaped_2d)\n"
   ]
  },
  {
   "cell_type": "markdown",
   "metadata": {},
   "source": [
    "2. Concatenating Arrays"
   ]
  },
  {
   "cell_type": "code",
   "execution_count": 2,
   "metadata": {},
   "outputs": [
    {
     "name": "stdout",
     "output_type": "stream",
     "text": [
      "Concatenated along axis 0 (vertical):\n",
      "[[1 2]\n",
      " [3 4]\n",
      " [5 6]]\n",
      "\n",
      "Concatenated along axis 1 (horizontal):\n",
      "[[1 2 5]\n",
      " [3 4 6]]\n"
     ]
    }
   ],
   "source": [
    "import numpy as np\n",
    "a = np.array([[1, 2], [3, 4]])\n",
    "b = np.array([[5, 6]])\n",
    "\n",
    "arr_concat_v = np.concatenate((a, b), axis=0)\n",
    "print(\"Concatenated along axis 0 (vertical):\")\n",
    "print(arr_concat_v)\n",
    "\n",
    "arr_concat_h = np.hstack((a, b.T)) \n",
    "print(\"\\nConcatenated along axis 1 (horizontal):\")\n",
    "print(arr_concat_h)\n"
   ]
  },
  {
   "cell_type": "markdown",
   "metadata": {},
   "source": [
    "3. Flattening Arrays:-"
   ]
  },
  {
   "cell_type": "code",
   "execution_count": 4,
   "metadata": {},
   "outputs": [
    {
     "name": "stdout",
     "output_type": "stream",
     "text": [
      "Original 2D array:\n",
      "[[1 2 3]\n",
      " [4 5 6]]\n",
      "\n",
      "Flattened array:\n",
      "[1 2 3 4 5 6]\n"
     ]
    }
   ],
   "source": [
    "import numpy as np\n",
    "a = np.array([[1, 2, 3],[4, 5, 6]])\n",
    "a_flattened = a.flatten()\n",
    "\n",
    "print(\"Original 2D array:\")\n",
    "print(a)\n",
    "\n",
    "print(\"\\nFlattened array:\")\n",
    "print(a_flattened)\n"
   ]
  },
  {
   "cell_type": "markdown",
   "metadata": {},
   "source": [
    "4. Stacking Arrays:-"
   ]
  },
  {
   "cell_type": "code",
   "execution_count": 5,
   "metadata": {},
   "outputs": [
    {
     "name": "stdout",
     "output_type": "stream",
     "text": [
      "[ 1  2  3  4  5  6  7  8  9 10]\n",
      "[[ 1  2  3  4  5]\n",
      " [ 6  7  8  9 10]]\n",
      "[[ 1  6]\n",
      " [ 2  7]\n",
      " [ 3  8]\n",
      " [ 4  9]\n",
      " [ 5 10]]\n"
     ]
    }
   ],
   "source": [
    "a = np.array([1, 2,3,4,5])\n",
    "b = np.array([6,7,8,9,10])\n",
    "c = np.hstack((a, b))\n",
    "print(c)\n",
    "\n",
    "d = np.vstack((a, b))\n",
    "print(d)\n",
    "\n",
    "e = np.stack((a, b), axis=1)\n",
    "print(e)"
   ]
  },
  {
   "cell_type": "markdown",
   "metadata": {},
   "source": [
    "5. Splitting Arrays:-"
   ]
  },
  {
   "cell_type": "code",
   "execution_count": 6,
   "metadata": {},
   "outputs": [
    {
     "name": "stdout",
     "output_type": "stream",
     "text": [
      "Horizontal split:\n",
      "Left sub-array:\n",
      " [[1]\n",
      " [3]\n",
      " [5]\n",
      " [7]]\n",
      "Right sub-array:\n",
      " [[2]\n",
      " [4]\n",
      " [6]\n",
      " [8]]\n"
     ]
    }
   ],
   "source": [
    "a = np.array([[1, 2],[3,4],[5,6],[7,8]])\n",
    "\n",
    "left, right = np.hsplit(a, 2)\n",
    "print(\"Horizontal split:\")\n",
    "print(\"Left sub-array:\\n\", left)\n",
    "print(\"Right sub-array:\\n\", right)\n"
   ]
  },
  {
   "cell_type": "markdown",
   "metadata": {},
   "source": [
    "6. Appending Elements:-"
   ]
  },
  {
   "cell_type": "code",
   "execution_count": 7,
   "metadata": {},
   "outputs": [
    {
     "name": "stdout",
     "output_type": "stream",
     "text": [
      "[1 2 3 4 5 6 7]\n",
      "[[1 2]\n",
      " [3 4]\n",
      " [5 6]]\n"
     ]
    }
   ],
   "source": [
    "a = np.array([1, 2, 3,4,5])\n",
    "b = np.append(a, [6,7])\n",
    "print(b)  \n",
    "\n",
    "c = np.array([[1, 2], [3, 4]])\n",
    "d = np.append(c, [[5, 6]], axis=0)\n",
    "print(d)"
   ]
  },
  {
   "cell_type": "markdown",
   "metadata": {},
   "source": [
    "7. Inserting Elements:-"
   ]
  },
  {
   "cell_type": "code",
   "execution_count": 9,
   "metadata": {},
   "outputs": [
    {
     "name": "stdout",
     "output_type": "stream",
     "text": [
      "[ 1  2  3  4  5 10 20  6  7  8]\n",
      "[[ 1  2 10  3  4]\n",
      " [ 5  6 20  7  8]]\n"
     ]
    }
   ],
   "source": [
    "a = np.array([1, 2, 3, 4, 5, 6, 7, 8])\n",
    "b = np.insert(a, 5, [10, 20])\n",
    "print(b) \n",
    "\n",
    "c = np.array([[1, 2, 3, 4], [5, 6, 7, 8]])\n",
    "d = np.insert(c, 2, [10, 20], axis=1)\n",
    "print(d)"
   ]
  },
  {
   "cell_type": "markdown",
   "metadata": {},
   "source": [
    "8. Deleting Elements :-"
   ]
  },
  {
   "cell_type": "code",
   "execution_count": 11,
   "metadata": {},
   "outputs": [
    {
     "name": "stdout",
     "output_type": "stream",
     "text": [
      "[2]\n",
      "[[ 1  3  4  5]\n",
      " [ 6  8  9 10]]\n"
     ]
    }
   ],
   "source": [
    "a = np.array([1, 2, 3])\n",
    "b = np.delete(a, [0, 2])\n",
    "print(b) \n",
    "\n",
    "c = np.array([[1, 2, 3, 4, 5], [6, 7, 8, 9, 10]])\n",
    "d = np.delete(c, 1, axis=1)\n",
    "print(d)"
   ]
  },
  {
   "cell_type": "markdown",
   "metadata": {},
   "source": [
    "# Pandas:- A Library for Handling Structured Data in Python\n"
   ]
  },
  {
   "cell_type": "markdown",
   "metadata": {},
   "source": [
    "Pandas is a high-performance Python library designed for data manipulation and analysis. It provides flexible and powerful tools for working with structured data, allowing you to perform complex operations with minimal code. Some key features of Pandas include:\n",
    "\n",
    "DataFrames and Series: Pandas uses DataFrames (2D tables) and Series (1D arrays) to represent structured data, similar to tables in a database or Excel.\n",
    "Comprehensive Data Operations: With Pandas, you can filter, sort, group, merge, concatenate, pivot, and reshape data with ease.\n",
    "Handling Missing Data: Pandas offers a variety of methods to detect and handle missing or null values.\n",
    "Integration with Other Libraries: Pandas integrates well with other Python libraries used in data science, like NumPy, SciPy, and"
   ]
  },
  {
   "cell_type": "code",
   "execution_count": 4,
   "metadata": {},
   "outputs": [
    {
     "name": "stdout",
     "output_type": "stream",
     "text": [
      "Pandas version: 2.2.2\n"
     ]
    }
   ],
   "source": [
    "# To check which version you are using \n",
    "import pandas as pd\n",
    "print(\"Pandas version:\", pd.__version__)"
   ]
  },
  {
   "cell_type": "markdown",
   "metadata": {},
   "source": [
    "Creation:-"
   ]
  },
  {
   "cell_type": "code",
   "execution_count": 8,
   "metadata": {},
   "outputs": [
    {
     "name": "stdout",
     "output_type": "stream",
     "text": [
      "Series from list\n",
      "a    101\n",
      "b    102\n",
      "c    103\n",
      "d    104\n",
      "e    105\n",
      "dtype: int64\n"
     ]
    }
   ],
   "source": [
    "# From Lists\n",
    "import pandas as pd\n",
    "data = [101,102,103,104,105]\n",
    "s = pd.Series(data, index=[\"a\",\"b\",\"c\",\"d\",\"e\"])\n",
    "\n",
    "print(\"Series from list\")\n",
    "print(s)"
   ]
  },
  {
   "cell_type": "code",
   "execution_count": 12,
   "metadata": {},
   "outputs": [
    {
     "name": "stdout",
     "output_type": "stream",
     "text": [
      "Series from array:\n",
      "i    1.1\n",
      "j    2.2\n",
      "k    3.3\n",
      "l    5.5\n",
      "m    7.7\n",
      "dtype: float64\n"
     ]
    }
   ],
   "source": [
    "# From Arrays:-\n",
    "import pandas as pd\n",
    "import numpy as np\n",
    "array_data = np.array([1.1,2.2,3.3,5.5,7.7])\n",
    "s_from_array = pd.Series(array_data,index=[\"i\",\"j\",\"k\",\"l\",\"m\"])\n",
    "\n",
    "print(\"Series from array:\" )\n",
    "print(s_from_array)"
   ]
  },
  {
   "cell_type": "code",
   "execution_count": 14,
   "metadata": {},
   "outputs": [
    {
     "name": "stdout",
     "output_type": "stream",
     "text": [
      "Series from dictionary:\n",
      "Vansh    1\n",
      "Raman    2\n",
      "Riya     3\n",
      "dtype: int64\n"
     ]
    }
   ],
   "source": [
    "# From Dictionaries:-\n",
    "d_data ={\"Vansh\":1,\"Raman\":2,\"Riya\":3}\n",
    "s_from_d = pd.Series(d_data)\n",
    "\n",
    "print(\"Series from dictionary:\")\n",
    "print(s_from_d)"
   ]
  },
  {
   "cell_type": "markdown",
   "metadata": {},
   "source": [
    "#   Attributes"
   ]
  },
  {
   "cell_type": "markdown",
   "metadata": {},
   "source": [
    "1. s.index:- Returns the index labels of the Series."
   ]
  },
  {
   "cell_type": "code",
   "execution_count": 15,
   "metadata": {},
   "outputs": [
    {
     "name": "stdout",
     "output_type": "stream",
     "text": [
      "Index(['a', 'b', 'c'], dtype='object')\n"
     ]
    }
   ],
   "source": [
    "import pandas as pd\n",
    "data = [10, 20, 30]\n",
    "s = pd.Series(data, index=['a', 'b', 'c'])\n",
    "print(s.index)\n"
   ]
  },
  {
   "cell_type": "markdown",
   "metadata": {},
   "source": [
    "2. s.values:- Returns the underlying values in the Series as a NumPy array"
   ]
  },
  {
   "cell_type": "code",
   "execution_count": 16,
   "metadata": {},
   "outputs": [
    {
     "name": "stdout",
     "output_type": "stream",
     "text": [
      "[10 20 30]\n"
     ]
    }
   ],
   "source": [
    "print(s.values)"
   ]
  },
  {
   "cell_type": "markdown",
   "metadata": {},
   "source": [
    "3. s.dtype:- Provides the data type of the Series element."
   ]
  },
  {
   "cell_type": "code",
   "execution_count": 17,
   "metadata": {},
   "outputs": [
    {
     "name": "stdout",
     "output_type": "stream",
     "text": [
      "int64\n"
     ]
    }
   ],
   "source": [
    "print(s.dtype)\n"
   ]
  },
  {
   "cell_type": "markdown",
   "metadata": {},
   "source": [
    "4. s.size:- Returns the number of elements in the Series."
   ]
  },
  {
   "cell_type": "code",
   "execution_count": 18,
   "metadata": {},
   "outputs": [
    {
     "name": "stdout",
     "output_type": "stream",
     "text": [
      "3\n"
     ]
    }
   ],
   "source": [
    "print(s.size)"
   ]
  },
  {
   "cell_type": "markdown",
   "metadata": {},
   "source": [
    "# Methods:-"
   ]
  },
  {
   "cell_type": "markdown",
   "metadata": {},
   "source": [
    "1. s.head(n):- Returns the first'n' elements of the Series."
   ]
  },
  {
   "cell_type": "code",
   "execution_count": 19,
   "metadata": {},
   "outputs": [
    {
     "name": "stdout",
     "output_type": "stream",
     "text": [
      "0    10\n",
      "1    20\n",
      "2    30\n",
      "dtype: int64\n"
     ]
    }
   ],
   "source": [
    "s = pd.Series([10, 20, 30, 40, 50])\n",
    "print(s.head(3))\n"
   ]
  },
  {
   "cell_type": "markdown",
   "metadata": {},
   "source": [
    "2. s.tail(n):- Returns the last'n' elements of the Series."
   ]
  },
  {
   "cell_type": "code",
   "execution_count": 20,
   "metadata": {},
   "outputs": [
    {
     "name": "stdout",
     "output_type": "stream",
     "text": [
      "3    40\n",
      "4    50\n",
      "dtype: int64\n"
     ]
    }
   ],
   "source": [
    "print(s.tail(2))\n"
   ]
  },
  {
   "cell_type": "markdown",
   "metadata": {},
   "source": [
    "3. s.sort_values():- Sorts the Series by its values."
   ]
  },
  {
   "cell_type": "code",
   "execution_count": 21,
   "metadata": {},
   "outputs": [
    {
     "name": "stdout",
     "output_type": "stream",
     "text": [
      "3    10\n",
      "1    20\n",
      "2    30\n",
      "4    40\n",
      "0    50\n",
      "dtype: int64\n"
     ]
    }
   ],
   "source": [
    "data = [50, 20, 30, 10, 40]\n",
    "s = pd.Series(data)\n",
    "print(s.sort_values())\n"
   ]
  },
  {
   "cell_type": "markdown",
   "metadata": {},
   "source": [
    "4. s.mean(),s.median(), s.std() :-Compute common statistics (mean, median, and standard deviation)."
   ]
  },
  {
   "cell_type": "code",
   "execution_count": 22,
   "metadata": {},
   "outputs": [
    {
     "name": "stdout",
     "output_type": "stream",
     "text": [
      "Mean: 30.0\n",
      "Median: 30.0\n",
      "Standard Deviation: 15.811388300841896\n"
     ]
    }
   ],
   "source": [
    "print(\"Mean:\", s.mean())\n",
    "print(\"Median:\", s.median())\n",
    "print(\"Standard Deviation:\", s.std())\n"
   ]
  },
  {
   "cell_type": "markdown",
   "metadata": {},
   "source": [
    "5. s.str:- Provides string manipulation methods if the Series contains the string data"
   ]
  },
  {
   "cell_type": "code",
   "execution_count": 23,
   "metadata": {},
   "outputs": [
    {
     "name": "stdout",
     "output_type": "stream",
     "text": [
      "0     APPLE\n",
      "1    PAPAYA\n",
      "2    CHERRY\n",
      "dtype: object\n"
     ]
    }
   ],
   "source": [
    "data = ['apple', 'papaya', 'cherry']\n",
    "s = pd.Series(data)\n",
    "print(s.str.upper())\n"
   ]
  },
  {
   "cell_type": "markdown",
   "metadata": {},
   "source": [
    "6. s.apply(function):- Applies a function to each element in the series"
   ]
  },
  {
   "cell_type": "code",
   "execution_count": 24,
   "metadata": {},
   "outputs": [
    {
     "name": "stdout",
     "output_type": "stream",
     "text": [
      "0     1\n",
      "1     4\n",
      "2     9\n",
      "3    16\n",
      "4    25\n",
      "dtype: int64\n"
     ]
    }
   ],
   "source": [
    "data = [1, 2, 3, 4, 5]\n",
    "s = pd.Series(data)\n",
    "print(s.apply(lambda x: x ** 2))\n"
   ]
  }
 ],
 "metadata": {
  "kernelspec": {
   "display_name": "Python 3",
   "language": "python",
   "name": "python3"
  },
  "language_info": {
   "codemirror_mode": {
    "name": "ipython",
    "version": 3
   },
   "file_extension": ".py",
   "mimetype": "text/x-python",
   "name": "python",
   "nbconvert_exporter": "python",
   "pygments_lexer": "ipython3",
   "version": "3.12.4"
  }
 },
 "nbformat": 4,
 "nbformat_minor": 2
}
