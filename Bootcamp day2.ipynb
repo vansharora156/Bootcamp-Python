{
 "cells": [
  {
   "cell_type": "markdown",
   "metadata": {},
   "source": [
    "# Object Oriented Programming :-"
   ]
  },
  {
   "cell_type": "markdown",
   "metadata": {},
   "source": [
    "1. Class:- Class is the blueprint for creating objects."
   ]
  },
  {
   "cell_type": "code",
   "execution_count": 4,
   "metadata": {},
   "outputs": [
    {
     "name": "stdout",
     "output_type": "stream",
     "text": [
      "Laptop 110\n"
     ]
    }
   ],
   "source": [
    "class items:  \n",
    "    def __init__(self,itemname, itemid):  \n",
    "        self.itemname = itemname  \n",
    "        self.itemid = itemid  \n",
    "    def display(self):  \n",
    "        print(self.itemname,self.itemid)  \n",
    "  \n",
    "a = items(\"Laptop\", 110)  \n",
    "a.display() "
   ]
  },
  {
   "cell_type": "code",
   "execution_count": 5,
   "metadata": {},
   "outputs": [
    {
     "name": "stdout",
     "output_type": "stream",
     "text": [
      "Toyota 2016\n"
     ]
    }
   ],
   "source": [
    "class car:  \n",
    "    def __init__(self,modelname, year):  \n",
    "        self.modelname = modelname  \n",
    "        self.year = year  \n",
    "    def display(self):  \n",
    "        print(self.modelname,self.year)  \n",
    "  \n",
    "c1 = car(\"Toyota\", 2016)  \n",
    "c1.display() "
   ]
  },
  {
   "cell_type": "markdown",
   "metadata": {},
   "source": [
    "2. Instance Objects :-"
   ]
  },
  {
   "cell_type": "code",
   "execution_count": 6,
   "metadata": {},
   "outputs": [
    {
     "name": "stdout",
     "output_type": "stream",
     "text": [
      "2750\n",
      "Insufficient funds\n"
     ]
    }
   ],
   "source": [
    "class BankAccount:\n",
    "    def __init__(self, owner, balance=0):\n",
    "        self.owner = owner\n",
    "        self.balance = balance\n",
    "\n",
    "    def deposit(self, amount):\n",
    "        self.balance += amount\n",
    "        return self.balance\n",
    "\n",
    "    def withdraw(self, amount):\n",
    "        if amount > self.balance:\n",
    "            return \"Insufficient funds\"\n",
    "        self.balance -= amount\n",
    "        return self.balance\n",
    "\n",
    "account1 = BankAccount(\"Ravi Sharma\", 2500)\n",
    "account2 = BankAccount(\"Rajeev Sharma\")\n",
    "\n",
    "print(account1.deposit(250)) \n",
    "print(account2.withdraw(200))  "
   ]
  },
  {
   "cell_type": "code",
   "execution_count": 7,
   "metadata": {},
   "outputs": [
    {
     "name": "stdout",
     "output_type": "stream",
     "text": [
      "Product: Laptop, Price: $1450, Stock: 12\n",
      "Product: Smartphone, Price: $730, Stock: 26\n"
     ]
    }
   ],
   "source": [
    "class Product:\n",
    "    def __init__(self, name, price, stock):\n",
    "        self.name = name\n",
    "        self.price = price\n",
    "        self.stock = stock\n",
    "\n",
    "    def product_info(self):\n",
    "        return f\"Product: {self.name}, Price: ${self.price}, Stock: {self.stock}\"\n",
    "\n",
    "product1 = Product(\"Laptop\", 1450, 12)\n",
    "product2 = Product(\"Smartphone\", 730,26 )\n",
    "\n",
    "print(product1.product_info()) \n",
    "print(product2.product_info())  \n"
   ]
  },
  {
   "cell_type": "markdown",
   "metadata": {},
   "source": [
    "3. Data Encapsulation :- "
   ]
  },
  {
   "cell_type": "code",
   "execution_count": 9,
   "metadata": {},
   "outputs": [
    {
     "name": "stdout",
     "output_type": "stream",
     "text": [
      "This Cabin No. does not exists.\n",
      "Doctor Raksh Jain, Specialization: Cardiology, Age: 42, Cabin No: 202\n",
      "Doctor Smriti Arora, Specialization: Neurology, Age: 33, Cabin No: 303\n"
     ]
    }
   ],
   "source": [
    "class Doctor:\n",
    "    def __init__(self, name, specialization, age, cabin_no):\n",
    "        self.name = name\n",
    "        self.specialization = specialization\n",
    "        self.age = age\n",
    "        self.__cabin_no = cabin_no \n",
    "\n",
    "    def update_cabin_no(self, new_cabin_no):\n",
    "        if isinstance(new_cabin_no, int) and new_cabin_no > 0:\n",
    "            self.__cabin_no = new_cabin_no\n",
    "        else:\n",
    "            print(\"This Cabin No. does not exists.\")\n",
    "\n",
    "    def display_info(self):\n",
    "        return (f\"Doctor {self.name}, Specialization: {self.specialization}, \"\n",
    "                f\"Age: {self.age}, Cabin No: {self.__cabin_no}\")\n",
    "\n",
    "doctor1 = Doctor(\"Raksh Jain\", \"Cardiology\", 42, 101)\n",
    "doctor2 = Doctor(\"Smriti Arora\", \"Neurology\", 33, 102)\n",
    "\n",
    "doctor1.update_cabin_no(202)\n",
    "doctor2.update_cabin_no(303)\n",
    "\n",
    "doctor2.update_cabin_no(-5)  \n",
    "print(doctor1.display_info())  \n",
    "print(doctor2.display_info())  \n"
   ]
  },
  {
   "cell_type": "markdown",
   "metadata": {},
   "source": [
    "4. Data Abstraction :-"
   ]
  },
  {
   "cell_type": "code",
   "execution_count": 15,
   "metadata": {},
   "outputs": [
    {
     "name": "stdout",
     "output_type": "stream",
     "text": [
      "The name of the person is Rahul , 22 years old and lives in Jalandhar\n"
     ]
    }
   ],
   "source": [
    "class Person:\n",
    "    def __init__(self,name,age,city):\n",
    "        self.name=name\n",
    "        self.age=age\n",
    "        self.city=city\n",
    "\n",
    "    def display_info(self):\n",
    "        print(f\"The name of the person is {self.name} , {self.age} years old and lives in {self.city}\")\n",
    "\n",
    "\n",
    "person= Person(\"Rahul\",22,\"Jalandhar\")\n",
    "person.display_info()"
   ]
  }
 ],
 "metadata": {
  "kernelspec": {
   "display_name": "Python 3",
   "language": "python",
   "name": "python3"
  },
  "language_info": {
   "codemirror_mode": {
    "name": "ipython",
    "version": 3
   },
   "file_extension": ".py",
   "mimetype": "text/x-python",
   "name": "python",
   "nbconvert_exporter": "python",
   "pygments_lexer": "ipython3",
   "version": "3.11.4"
  }
 },
 "nbformat": 4,
 "nbformat_minor": 2
}
