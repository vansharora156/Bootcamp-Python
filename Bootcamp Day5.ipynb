{
 "cells": [
  {
   "cell_type": "markdown",
   "metadata": {},
   "source": [
    "# Python Tkinter :-"
   ]
  },
  {
   "cell_type": "markdown",
   "metadata": {},
   "source": [
    "Tkinter is a standard GUI (Graphical User Interface) library in Python that provides a way to create graphical applications. It is included with standard Python distributions, so there's no need to install it separately. Tkinter allows you to create windows, dialogs, buttons, menus, and many other GUI components"
   ]
  },
  {
   "cell_type": "markdown",
   "metadata": {},
   "source": [
    "# Various Widgets used in Tkinter to create interactive applications :-"
   ]
  },
  {
   "cell_type": "markdown",
   "metadata": {},
   "source": [
    "1.Checkbutton: Create checkboxes for boolean options.\n",
    "2.Radiobutton: Create radio buttons for mutually exclusive options.\n",
    "3.Menu: Create simple menus for application navigation.\n",
    "4.Canvas: Draw shapes, lines, text, and images.\n",
    "5.Message: Display simple messages or notifications.\n",
    "6.Menubutton: Create a button that opens a menu.\n",
    "7.Treeview: Display hierarchical data in a tree-like structure.\n",
    "8.MessageBox Widget: Display dialog boxes for messages, warnings, etc.\n",
    "9.ScrolledText Widget: Create a text widget with built-in scrollbars.\n",
    "10.Progressbar: Show progress of a task.\n",
    "11.Spinbox: Provide a numerical input with up/down arrows.\n"
   ]
  },
  {
   "cell_type": "markdown",
   "metadata": {},
   "source": [
    "# Practice Questions on Data Structures :-"
   ]
  },
  {
   "cell_type": "code",
   "execution_count": 3,
   "metadata": {},
   "outputs": [
    {
     "data": {
      "text/plain": [
       "[20, 19, 18, 17, 16, 15, 14, 13, 12, 11, 10, 9, 8, 7, 6, 5, 4, 3, 2, 1]"
      ]
     },
     "execution_count": 3,
     "metadata": {},
     "output_type": "execute_result"
    }
   ],
   "source": [
    "# Q1. Create a list numbers containing the integers from 1 to 20.Extract the sublist from the 5th to the 10th elements (inclusive).Reverse the list using slicing.\n",
    "numbers = list(range(1, 21))\n",
    "sublist = numbers[4:10]     \n",
    "reversed_list = numbers[::-1] \n",
    "reversed_list\n",
    "\n"
   ]
  },
  {
   "cell_type": "code",
   "execution_count": 5,
   "metadata": {},
   "outputs": [
    {
     "name": "stdout",
     "output_type": "stream",
     "text": [
      "[1, 4, 9, 16, 25, 36, 49, 64, 81, 100]\n"
     ]
    }
   ],
   "source": [
    "# Q2. Generate a list of squares of the first ten natural numbers using a list comprehension.\n",
    "squares = [x**2 for x in range(1, 11)] \n",
    "print(squares)"
   ]
  },
  {
   "cell_type": "code",
   "execution_count": 6,
   "metadata": {},
   "outputs": [
    {
     "name": "stdout",
     "output_type": "stream",
     "text": [
      "{1, 3, 5, 7, 9, 11, 13, 15, 17, 19, 21, 23, 25, 27, 29, 31, 33, 35, 37, 39, 41, 43, 45, 47, 49}\n"
     ]
    }
   ],
   "source": [
    "# Q3. Create a set comprehension that generates all the odd numbers between 1 and 50.\n",
    "odd_numbers = {x for x in range(1, 51) if x % 2 != 0}\n",
    "print(odd_numbers)"
   ]
  },
  {
   "cell_type": "code",
   "execution_count": 8,
   "metadata": {},
   "outputs": [
    {
     "name": "stdout",
     "output_type": "stream",
     "text": [
      "[1, 2, 3, 4, 6, 7, 8, 9, 11, 12, 13, 14, 16, 17, 18, 19, 21, 22, 23, 24, 26, 27, 28, 29, 31, 32, 33, 34, 36, 37, 38, 39, 41, 42, 43, 44, 46, 47, 48, 49, 51, 52, 53, 54, 56, 57, 58, 59, 61, 62, 63, 64, 66, 67, 68, 69, 71, 72, 73, 74, 76, 77, 78, 79, 81, 82, 83, 84, 86, 87, 88, 89, 91, 92, 93, 94, 96, 97, 98, 99]\n"
     ]
    }
   ],
   "source": [
    "# Q4. Create a list of numbers from 1 to 100.Extract all prime numbers from this list and store them in a new list.Remove all multiples of 5 from the original list.\n",
    "\n",
    "numbers = list(range(1, 101))\n",
    "def is_prime(num):\n",
    "    if num < 2:\n",
    "        return False\n",
    "    for i in range(2, int(num ** 0.5) + 1):\n",
    "        if num % i == 0:\n",
    "            return False\n",
    "    return True\n",
    "\n",
    "primes = [num for num in numbers if is_prime(num)]\n",
    "non_multiples_of_5 = [num for num in numbers if num % 5 != 0]\n",
    "print(non_multiples_of_5)"
   ]
  },
  {
   "cell_type": "code",
   "execution_count": 11,
   "metadata": {},
   "outputs": [
    {
     "name": "stdout",
     "output_type": "stream",
     "text": [
      "{1: 1, 8: 2, 27: 3, 64: 4, 125: 5, 216: 6, 343: 7, 512: 8, 729: 9, 1000: 10}\n"
     ]
    }
   ],
   "source": [
    "# Q5. Create a dictionary where keys are numbers and values are their cubes. Reverse the dictionary so that keys become values and values become keys.\n",
    "cubes_dict = {x: x**3 for x in range(1, 11)}\n",
    "reversed_dict = {a: b for b, a in cubes_dict.items()}\n",
    "print(reversed_dict)"
   ]
  }
 ],
 "metadata": {
  "kernelspec": {
   "display_name": "Python 3",
   "language": "python",
   "name": "python3"
  },
  "language_info": {
   "codemirror_mode": {
    "name": "ipython",
    "version": 3
   },
   "file_extension": ".py",
   "mimetype": "text/x-python",
   "name": "python",
   "nbconvert_exporter": "python",
   "pygments_lexer": "ipython3",
   "version": "3.11.4"
  }
 },
 "nbformat": 4,
 "nbformat_minor": 2
}
