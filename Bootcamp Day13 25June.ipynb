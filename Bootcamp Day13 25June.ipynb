{
 "cells": [
  {
   "cell_type": "markdown",
   "metadata": {},
   "source": [
    "# NumPy:-"
   ]
  },
  {
   "cell_type": "markdown",
   "metadata": {},
   "source": [
    "NumPy is a powerful Python library used primarily for numerical computing. It provides support for large, multi-dimensional arrays and matrices, along with a collection of mathematical functions to operate on these arrays efficiently. NumPy is widely used in scientific computing, data analysis, and machine learning due to its speed and ease of use for numerical operations."
   ]
  },
  {
   "cell_type": "markdown",
   "metadata": {},
   "source": [
    "# NumPy Arrays :-"
   ]
  },
  {
   "cell_type": "markdown",
   "metadata": {},
   "source": [
    "1D Array (One-dimensional Array):\n"
   ]
  },
  {
   "cell_type": "markdown",
   "metadata": {},
   "source": [
    "\n",
    "A 1D array is a collection of elements which are ordered in a single sequence.\n",
    "It is similar to a list in Python but with more functionalities for numerical computations.\n"
   ]
  },
  {
   "cell_type": "markdown",
   "metadata": {},
   "source": [
    "\n",
    "Characteristics:\n",
    "Indexed by a single index (like a list).\n",
    "Used for representing vectors or sequences of data."
   ]
  },
  {
   "cell_type": "markdown",
   "metadata": {},
   "source": [
    "2D Array (Two-dimensional Array):"
   ]
  },
  {
   "cell_type": "markdown",
   "metadata": {},
   "source": [
    "A 2D array is essentially a matrix consisting of rows and columns.\n",
    "\n",
    "Each element in a 2D array is identified by two indices (row index and column index).\n"
   ]
  },
  {
   "cell_type": "markdown",
   "metadata": {},
   "source": [
    "Characteristics:\n",
    "Indexed by two indices (row and column).\n",
    "Used for representing matrices or tables of data.\n",
    "Rows and columns can have different lengths."
   ]
  },
  {
   "cell_type": "markdown",
   "metadata": {},
   "source": [
    "3D Array (Three-dimensional Array):-"
   ]
  },
  {
   "cell_type": "markdown",
   "metadata": {},
   "source": [
    "A 3D array can be thought of as a cube of data with multiple layers.\n",
    "It extends the concept of matrices into three dimensions by adding a depth dimension.\n"
   ]
  },
  {
   "cell_type": "markdown",
   "metadata": {},
   "source": [
    "Characteristics:\n",
    "Indexed by three indices (depth, row, and column).\n",
    "Used for representing volumetric data, such as a stack of matrices or a cube of data.\n",
    "Each element is accessed using three indices."
   ]
  },
  {
   "cell_type": "markdown",
   "metadata": {},
   "source": [
    "Shape:- It returns a tuple where each element represents the size of the array along a specific dimension."
   ]
  },
  {
   "cell_type": "code",
   "execution_count": 1,
   "metadata": {},
   "outputs": [
    {
     "name": "stdout",
     "output_type": "stream",
     "text": [
      "(5,)\n"
     ]
    }
   ],
   "source": [
    "# 1D Array:-\n",
    "import numpy as np\n",
    "\n",
    "array_1d = np.array([1, 2, 3, 4, 5])\n",
    "print(array_1d.shape) \n"
   ]
  },
  {
   "cell_type": "code",
   "execution_count": 2,
   "metadata": {},
   "outputs": [
    {
     "name": "stdout",
     "output_type": "stream",
     "text": [
      "(2, 3)\n"
     ]
    }
   ],
   "source": [
    "# 2D Array:-\n",
    "import numpy as np\n",
    "\n",
    "b = np.array([[1, 2, 3], [4, 5, 6]])\n",
    "print(b.shape)\n",
    "# Ans will be :- \n",
    "#For the array b, the shape is (2, 3):\n",
    "#2 indicates that there are 2 rows.\n",
    "#3 indicates that each row has 3 columns.\n"
   ]
  },
  {
   "cell_type": "code",
   "execution_count": 3,
   "metadata": {},
   "outputs": [
    {
     "name": "stdout",
     "output_type": "stream",
     "text": [
      "(2, 2, 2)\n"
     ]
    }
   ],
   "source": [
    "# 3D Array:-\n",
    "import numpy as np\n",
    "c = np.array([[[1, 2], [3, 4]], [[5, 6], [7, 8]]])\n",
    "print(c.shape)\n",
    "# Ans will\n",
    "#For the array c, the shape is (2, 2, 2):\n",
    "#2 indicates that there are 2 matrices (or layers).\n",
    "#2 indicates that each matrix has 2 rows.\n",
    "#2 indicates that each row has 2 columns."
   ]
  },
  {
   "cell_type": "code",
   "execution_count": 4,
   "metadata": {},
   "outputs": [
    {
     "name": "stdout",
     "output_type": "stream",
     "text": [
      "6\n"
     ]
    }
   ],
   "source": [
    "b = np.array([[1, 2, 3], [4, 5, 6]])\n",
    "print(b.size)"
   ]
  },
  {
   "cell_type": "code",
   "execution_count": 6,
   "metadata": {},
   "outputs": [
    {
     "name": "stdout",
     "output_type": "stream",
     "text": [
      "int64\n"
     ]
    }
   ],
   "source": [
    "b = np.array([[1, 2, 3], [4, 5, 6]])\n",
    "print(b.dtype)"
   ]
  },
  {
   "cell_type": "code",
   "execution_count": 7,
   "metadata": {},
   "outputs": [
    {
     "name": "stdout",
     "output_type": "stream",
     "text": [
      "bool\n"
     ]
    }
   ],
   "source": [
    "d = np.array([True, False, True])\n",
    "print(d.dtype)  "
   ]
  },
  {
   "cell_type": "markdown",
   "metadata": {},
   "source": [
    "# Characteristics:-"
   ]
  },
  {
   "cell_type": "markdown",
   "metadata": {},
   "source": [
    "1. np.array(): Create an array from a Python list or sequence."
   ]
  },
  {
   "cell_type": "code",
   "execution_count": 8,
   "metadata": {},
   "outputs": [
    {
     "name": "stdout",
     "output_type": "stream",
     "text": [
      "[1 2 3 4 5]\n"
     ]
    }
   ],
   "source": [
    "import numpy as np\n",
    "my_list = [1, 2, 3, 4, 5]\n",
    "my_array = np.array(my_list)\n",
    "print(my_array)\n"
   ]
  },
  {
   "cell_type": "markdown",
   "metadata": {},
   "source": [
    "2. np.asarray(): Convert the input to an array."
   ]
  },
  {
   "cell_type": "code",
   "execution_count": 10,
   "metadata": {},
   "outputs": [
    {
     "name": "stdout",
     "output_type": "stream",
     "text": [
      "[1 2 3 4 5]\n"
     ]
    }
   ],
   "source": [
    "import numpy as np\n",
    "my_list = [1, 2, 3, 4, 5]\n",
    "my_array = np.asarray(my_list)\n",
    "\n",
    "print(my_array)\n"
   ]
  },
  {
   "cell_type": "markdown",
   "metadata": {},
   "source": [
    "3. np.ones(): Create an array filled with ones."
   ]
  },
  {
   "cell_type": "code",
   "execution_count": null,
   "metadata": {},
   "outputs": [],
   "source": [
    "import numpy as np\n",
    "b = np.ones((2, 3, 2))\n",
    "# 2,3,2 is the shape\n",
    "print(b)\n"
   ]
  },
  {
   "cell_type": "markdown",
   "metadata": {},
   "source": [
    "4. np.zeros(): Create an array filled with zeros."
   ]
  },
  {
   "cell_type": "code",
   "execution_count": 11,
   "metadata": {},
   "outputs": [
    {
     "name": "stdout",
     "output_type": "stream",
     "text": [
      "[[[0. 0.]\n",
      "  [0. 0.]\n",
      "  [0. 0.]]\n",
      "\n",
      " [[0. 0.]\n",
      "  [0. 0.]\n",
      "  [0. 0.]]]\n"
     ]
    }
   ],
   "source": [
    "import numpy as np\n",
    "zeros_array = np.zeros((2, 3, 2))\n",
    "print(zeros_array)\n"
   ]
  },
  {
   "cell_type": "markdown",
   "metadata": {},
   "source": [
    "5. np.arange(): Create a sequence of numbers within a range."
   ]
  },
  {
   "cell_type": "code",
   "execution_count": 19,
   "metadata": {},
   "outputs": [
    {
     "name": "stdout",
     "output_type": "stream",
     "text": [
      "[ 0  1  2  3  4  5  6  7  8  9 10 11 12 13 14 15 16 17 18 19 20 21 22 23\n",
      " 24 25 26 27 28 29 30 31 32 33 34 35 36 37 38 39 40 41 42 43 44 45 46 47\n",
      " 48 49]\n"
     ]
    }
   ],
   "source": [
    "import numpy as np\n",
    "a = np.arange(50)\n",
    "print(a)"
   ]
  },
  {
   "cell_type": "markdown",
   "metadata": {},
   "source": [
    "6. np.linspace(): Create an array with evenly spaced values within a range."
   ]
  },
  {
   "cell_type": "code",
   "execution_count": 20,
   "metadata": {},
   "outputs": [
    {
     "name": "stdout",
     "output_type": "stream",
     "text": [
      "[1.         1.33333333 1.66666667 2.         2.33333333 2.66666667\n",
      " 3.        ]\n"
     ]
    }
   ],
   "source": [
    "a = np.linspace(1,3,7)\n",
    "print(a)"
   ]
  },
  {
   "cell_type": "markdown",
   "metadata": {},
   "source": [
    "7. np.eye(): Create a square identity matrix."
   ]
  },
  {
   "cell_type": "code",
   "execution_count": 21,
   "metadata": {},
   "outputs": [
    {
     "name": "stdout",
     "output_type": "stream",
     "text": [
      "[[1. 0. 0. 0.]\n",
      " [0. 1. 0. 0.]\n",
      " [0. 0. 1. 0.]\n",
      " [0. 0. 0. 1.]]\n"
     ]
    }
   ],
   "source": [
    "a = np.eye(4)\n",
    "print(a)"
   ]
  },
  {
   "cell_type": "markdown",
   "metadata": {},
   "source": [
    "# Operations:-"
   ]
  },
  {
   "cell_type": "markdown",
   "metadata": {},
   "source": [
    "1. Basic Array Operations"
   ]
  },
  {
   "cell_type": "code",
   "execution_count": 22,
   "metadata": {},
   "outputs": [
    {
     "name": "stdout",
     "output_type": "stream",
     "text": [
      "Array 1: [1 2 3]\n",
      "Array 2: [4 5 6]\n",
      "addition: [5 7 9]\n",
      "subtraction: [3 3 3]\n",
      "multiplication: [ 4 10 18]\n",
      "division: [4.  2.5 2. ]\n",
      "Square root of Array 1: [1.         1.41421356 1.73205081]\n",
      "Exponential of Array 1: [ 2.71828183  7.3890561  20.08553692]\n",
      "Scalar multiplication of Array 1 by 2: [2 4 6]\n",
      "Scalar addition of Array 2 by 2: [6 7 8]\n",
      "Dot product: 32\n"
     ]
    }
   ],
   "source": [
    "import numpy as np\n",
    "arr1 = np.array([1, 2, 3])\n",
    "arr2 = np.array([4, 5, 6])\n",
    "\n",
    "print(\"Array 1:\", arr1)\n",
    "print(\"Array 2:\", arr2)\n",
    "\n",
    "# Addition :-\n",
    "addition = arr1 + arr2\n",
    "print( \"addition:\",addition)\n",
    "\n",
    "# Subtraction:-\n",
    "subtraction = arr2 - arr1\n",
    "print(\"subtraction:\",subtraction)\n",
    "\n",
    "# Multiplication:-\n",
    "multiplication = arr1 * arr2\n",
    "print(\"multiplication:\", multiplication)\n",
    "\n",
    "# Division:-\n",
    "division = arr2 / arr1\n",
    "print(\"division:\",division)\n",
    "\n",
    "# Square root\n",
    "arr_sqrt = np.sqrt(arr1)\n",
    "print(\"Square root of Array 1:\", arr_sqrt)\n",
    "\n",
    "# Exponential (e^x)\n",
    "arr_exp = np.exp(arr1)\n",
    "print(\"Exponential of Array 1:\", arr_exp)\n",
    "\n",
    "# Scalar operations\n",
    "scalar = 2\n",
    "\n",
    "# Scalar multiplication\n",
    "scalar_mult = arr1 * scalar\n",
    "print(f\"Scalar multiplication of Array 1 by {scalar}:\", scalar_mult)\n",
    "\n",
    "# Scalar addition\n",
    "scalar_add = arr2 + scalar\n",
    "print(f\"Scalar addition of Array 2 by {scalar}:\", scalar_add)\n",
    "\n",
    "# Dot product\n",
    "dot_product = np.dot(arr1, arr2)\n",
    "print(\"Dot product:\", dot_product)\n"
   ]
  },
  {
   "cell_type": "markdown",
   "metadata": {},
   "source": [
    "2. Broadcasting:-"
   ]
  },
  {
   "cell_type": "code",
   "execution_count": 23,
   "metadata": {},
   "outputs": [
    {
     "name": "stdout",
     "output_type": "stream",
     "text": [
      "Array 1:\n",
      "[[1 2 3]\n",
      " [4 5 6]]\n",
      "Array 2:\n",
      "[10 20 30]\n",
      "A:\n",
      "[[11 22 33]\n",
      " [14 25 36]]\n"
     ]
    }
   ],
   "source": [
    "import numpy as np\n",
    "arr1 = np.array([[1, 2, 3], [4, 5, 6]])\n",
    "arr2 = np.array([10, 20, 30])\n",
    "a = arr1 + arr2\n",
    "\n",
    "print(\"Array 1:\")\n",
    "print(arr1)\n",
    "print(\"Array 2:\")\n",
    "print(arr2)\n",
    "print(\"A:\")\n",
    "print(a)\n"
   ]
  },
  {
   "cell_type": "markdown",
   "metadata": {},
   "source": [
    "# Indexing:-"
   ]
  },
  {
   "cell_type": "code",
   "execution_count": 24,
   "metadata": {},
   "outputs": [
    {
     "name": "stdout",
     "output_type": "stream",
     "text": [
      "First element: 1\n",
      "Third element: 3\n",
      "Last element: 5\n",
      "Second last element: 4\n"
     ]
    }
   ],
   "source": [
    "import numpy as np\n",
    "a = np.array([1, 2, 3, 4, 5])\n",
    "print(\"First element:\", a[0])      \n",
    "print(\"Third element:\", a[2])      \n",
    "print(\"Last element:\", a[-1])      \n",
    "print(\"Second last element:\", a[-2]) \n"
   ]
  },
  {
   "cell_type": "markdown",
   "metadata": {},
   "source": [
    "# Slicing:-"
   ]
  },
  {
   "cell_type": "code",
   "execution_count": 30,
   "metadata": {},
   "outputs": [
    {
     "name": "stdout",
     "output_type": "stream",
     "text": [
      "Elements from index 2 to 5: [3 4 5]\n",
      "Reverse the array: [10  9  8  7  6  5  4  3  2  1]\n"
     ]
    }
   ],
   "source": [
    "import numpy as np\n",
    "a = np.array([1, 2, 3, 4, 5, 6, 7, 8, 9, 10])\n",
    "print(\"Elements from index 2 to 5:\", a[2:5])            \n",
    "print(\"Reverse the array:\", a[::-1])\n"
   ]
  },
  {
   "cell_type": "code",
   "execution_count": 31,
   "metadata": {},
   "outputs": [
    {
     "name": "stdout",
     "output_type": "stream",
     "text": [
      "6\n",
      "[[1 2 3]\n",
      " [4 5 6]]\n",
      "[2 5 8]\n"
     ]
    }
   ],
   "source": [
    "import numpy as np\n",
    "b = np.array([[1, 2, 3],[4, 5, 6],[7, 8, 9]])\n",
    "print(b[1, 2])        \n",
    "print(b[:2, :])     \n",
    "print(b[:, 1])       "
   ]
  },
  {
   "cell_type": "markdown",
   "metadata": {},
   "source": [
    "# Practice Question:-"
   ]
  },
  {
   "cell_type": "markdown",
   "metadata": {},
   "source": [
    "1. Given a 3D array a with shape (2, 3, 4) and a 2D array b with shape (3, 4), perform element-wise multiplication between a and b using broadcasting."
   ]
  },
  {
   "cell_type": "code",
   "execution_count": 32,
   "metadata": {},
   "outputs": [
    {
     "name": "stdout",
     "output_type": "stream",
     "text": [
      "Array a:\n",
      "[[[ 0  1  2  3]\n",
      "  [ 4  5  6  7]\n",
      "  [ 8  9 10 11]]\n",
      "\n",
      " [[12 13 14 15]\n",
      "  [16 17 18 19]\n",
      "  [20 21 22 23]]]\n",
      "Shape of a: (2, 3, 4)\n",
      "\n",
      "Array b:\n",
      "[[ 0  1  2  3]\n",
      " [ 4  5  6  7]\n",
      " [ 8  9 10 11]]\n",
      "Shape of b: (3, 4)\n",
      "\n",
      "Result of element-wise multiplication:\n",
      "[[[  0   1   4   9]\n",
      "  [ 16  25  36  49]\n",
      "  [ 64  81 100 121]]\n",
      "\n",
      " [[  0  13  28  45]\n",
      "  [ 64  85 108 133]\n",
      "  [160 189 220 253]]]\n",
      "Shape of result: (2, 3, 4)\n"
     ]
    }
   ],
   "source": [
    "import numpy as np\n",
    "a = np.arange(24).reshape(2, 3, 4)\n",
    "print(\"Array a:\")\n",
    "print(a)\n",
    "print(\"Shape of a:\", a.shape)\n",
    "\n",
    "b = np.arange(12).reshape(3, 4)\n",
    "print(\"\\nArray b:\")\n",
    "print(b)\n",
    "print(\"Shape of b:\", b.shape)\n",
    "\n",
    "result = a * b\n",
    "print(\"\\nResult of element-wise multiplication:\")\n",
    "print(result)\n",
    "print(\"Shape of result:\", result.shape)\n"
   ]
  }
 ],
 "metadata": {
  "kernelspec": {
   "display_name": "Python 3",
   "language": "python",
   "name": "python3"
  },
  "language_info": {
   "codemirror_mode": {
    "name": "ipython",
    "version": 3
   },
   "file_extension": ".py",
   "mimetype": "text/x-python",
   "name": "python",
   "nbconvert_exporter": "python",
   "pygments_lexer": "ipython3",
   "version": "3.12.4"
  }
 },
 "nbformat": 4,
 "nbformat_minor": 2
}
