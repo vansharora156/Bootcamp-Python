{
 "cells": [
  {
   "cell_type": "code",
   "execution_count": 1,
   "metadata": {},
   "outputs": [],
   "source": [
    "# Create a Tkinter window with a Text widget that allows users to enter and edit text. \n",
    "\n",
    "import tkinter as tk\n",
    "from tkinter import messagebox\n",
    "\n",
    "def show_text_content():\n",
    "    content = text_widget.get(\"1.0\", tk.END)  # Get all the text from the widget\n",
    "    messagebox.showinfo(\"Text Content\", content)\n",
    "\n",
    "root = tk.Tk()\n",
    "root.title(\"Text Widget Example\")\n",
    "\n",
    "# Create a Text widget\n",
    "text_widget = tk.Text(root, height=10, width=40)\n",
    "text_widget.pack(pady=20)\n",
    "\n",
    "# Create a Button to display the content of the text widget\n",
    "show_button = tk.Button(root, text=\"Show Text\", command=show_text_content)\n",
    "show_button.pack(pady=20)\n",
    "\n",
    "root.mainloop()\n"
   ]
  },
  {
   "cell_type": "code",
   "execution_count": null,
   "metadata": {},
   "outputs": [],
   "source": [
    "# Create a Tkinter window with a Listbox widget displaying a list of items.\n",
    "\n",
    "import tkinter as tk\n",
    "from tkinter import messagebox\n",
    "\n",
    "def show_selected_item():\n",
    "    selected_item = listbox.get(listbox.curselection()[0])  # Get the selected item\n",
    "    messagebox.showinfo(\"Selected Item\", selected_item)\n",
    "\n",
    "root = tk.Tk()\n",
    "root.title(\"Listbox Example\")\n",
    "\n",
    "# Create a Listbox widget and populate it with items\n",
    "listbox = tk.Listbox(root, height=6, width=20)\n",
    "items = [\"Item 1\", \"Item 2\", \"Item 3\", \"Item 4\", \"Item 5\"]\n",
    "for item in items:\n",
    "    listbox.insert(tk.END, item)\n",
    "listbox.pack(pady=20)\n",
    "\n",
    "# Create a Button to display the selected item\n",
    "show_button = tk.Button(root, text=\"Show Selected\", command=show_selected_item)\n",
    "show_button.pack(pady=20)\n",
    "\n",
    "root.mainloop()\n"
   ]
  },
  {
   "cell_type": "code",
   "execution_count": null,
   "metadata": {},
   "outputs": [],
   "source": [
    "# Create a Tkinter window with a Spinbox widget allowing users to select a number\n",
    "\n",
    "import tkinter as tk\n",
    "from tkinter import messagebox\n",
    "\n",
    "def show_spinbox_value():\n",
    "    value = spinbox.get()  # Get the selected value from the spinbox\n",
    "    messagebox.showinfo(\"Selected Value\", value)\n",
    "\n",
    "root = tk.Tk()\n",
    "root.title(\"Spinbox Example\")\n",
    "\n",
    "# Create a Spinbox widget\n",
    "spinbox = tk.Spinbox(root, from_=1, to=10, width=5)\n",
    "spinbox.pack(pady=20)\n",
    "\n",
    "# Create a Button to display the selected value\n",
    "show_button = tk.Button(root, text=\"Show Value\", command=show_spinbox_value)\n",
    "show_button.pack(pady=20)\n",
    "\n",
    "root.mainloop()\n"
   ]
  },
  {
   "cell_type": "code",
   "execution_count": null,
   "metadata": {},
   "outputs": [],
   "source": [
    "# Create a Tkinter window with a ComboBox widget displaying a dropdown list of options.\n",
    "\n",
    "import tkinter as tk\n",
    "from tkinter import ttk\n",
    "from tkinter import messagebox\n",
    "\n",
    "def show_combobox_selection():\n",
    "    selected_option = combobox.get()  # Get the selected option from the ComboBox\n",
    "    messagebox.showinfo(\"Selected Option\", selected_option)\n",
    "\n",
    "root = tk.Tk()\n",
    "root.title(\"Combobox Example\")\n",
    "\n",
    "# Create a ComboBox widget with options\n",
    "options = [\"Option 1\", \"Option 2\", \"Option 3\", \"Option 4\"]\n",
    "combobox = ttk.Combobox(root, values=options, width=20)\n",
    "combobox.pack(pady=20)\n",
    "\n",
    "# Create a Button to display the selected option\n",
    "show_button = tk.Button(root, text=\"Show Selection\", command=show_combobox_selection)\n",
    "show_button.pack(pady=20)\n",
    "\n",
    "root.mainloop()\n"
   ]
  }
 ],
 "metadata": {
  "kernelspec": {
   "display_name": "Python 3",
   "language": "python",
   "name": "python3"
  },
  "language_info": {
   "codemirror_mode": {
    "name": "ipython",
    "version": 3
   },
   "file_extension": ".py",
   "mimetype": "text/x-python",
   "name": "python",
   "nbconvert_exporter": "python",
   "pygments_lexer": "ipython3",
   "version": "3.11.4"
  }
 },
 "nbformat": 4,
 "nbformat_minor": 2
}
