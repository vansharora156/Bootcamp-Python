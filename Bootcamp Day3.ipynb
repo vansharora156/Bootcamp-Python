{
 "cells": [
  {
   "cell_type": "markdown",
   "metadata": {},
   "source": [
    "# Inheritance"
   ]
  },
  {
   "cell_type": "code",
   "execution_count": 6,
   "metadata": {},
   "outputs": [
    {
     "name": "stdout",
     "output_type": "stream",
     "text": [
      "Student Info:\n",
      "Name: Jai Prasad\n",
      "Age: 34\n",
      "Registration No: 13336454\n",
      "Subject: Maths\n",
      "Course: BTech\n",
      "\n",
      "Faculty Info:\n",
      "Name: Amita Sachdeva\n",
      "Age: 36\n",
      "UID: 56541\n",
      "Department: Electrical\n",
      "Cabin No: B12\n"
     ]
    }
   ],
   "source": [
    "# Base class\n",
    "class Person:\n",
    "    def __init__(self, name, age, registration_no):\n",
    "        self.name = name\n",
    "        self.age = age\n",
    "        self.registration_no = registration_no\n",
    "\n",
    "    def display_info(self):\n",
    "        print(f\"Name: {self.name}\")\n",
    "        print(f\"Age: {self.age}\")\n",
    "        print(f\"Registration No: {self.registration_no}\")\n",
    "\n",
    "# Derived class for Students\n",
    "class Student(Person):\n",
    "    def __init__(self, name, age, registration_no, subject, course):\n",
    "        super().__init__(name, age, registration_no)\n",
    "        self.subject = subject\n",
    "        self.course = course\n",
    "\n",
    "    def display_info(self):\n",
    "        super().display_info()\n",
    "        print(f\"Subject: {self.subject}\")\n",
    "        print(f\"Course: {self.course}\")\n",
    "\n",
    "# Derived class for Faculty\n",
    "class Faculty(Person):\n",
    "    def __init__(self, name, age, uid, department, cabin_no):\n",
    "        super().__init__(name, age, registration_no=None)\n",
    "        self.uid = uid\n",
    "        self.department = department\n",
    "        self.cabin_no = cabin_no\n",
    "\n",
    "    def display_info(self):\n",
    "        print(f\"Name: {self.name}\")\n",
    "        print(f\"Age: {self.age}\")\n",
    "        print(f\"UID: {self.uid}\")\n",
    "        print(f\"Department: {self.department}\")\n",
    "        print(f\"Cabin No: {self.cabin_no}\")\n",
    "\n",
    "# Example usage\n",
    "student = Student(\"Jai Prasad\", 34, 13336454, \"Maths\", \"BTech\")\n",
    "faculty = Faculty(\"Amita Sachdeva\", 36, 56541, \"Electrical\", \"B12\")\n",
    "\n",
    "print(\"Student Info:\")\n",
    "student.display_info()\n",
    "\n",
    "print(\"\\nFaculty Info:\")\n",
    "faculty.display_info()\n"
   ]
  },
  {
   "cell_type": "code",
   "execution_count": 7,
   "metadata": {},
   "outputs": [
    {
     "name": "stdout",
     "output_type": "stream",
     "text": [
      "200\n",
      "X5\n"
     ]
    }
   ],
   "source": [
    "class Car:\n",
    "    def __init__(self,model,enginetype,year):\n",
    "        self.model=model\n",
    "        self.enginetype=enginetype\n",
    "        self.year=year\n",
    "\n",
    "    def driving(self):\n",
    "        print(\"Car is used for driving\")\n",
    "\n",
    "class BMW(Car):\n",
    "    def __init__(self,model,enginetype,year,power):\n",
    "        super().__init__(model,enginetype,year)\n",
    "        self.power=power\n",
    "\n",
    "bmw=BMW(\"X5\",7,2023,200)\n",
    "\n",
    "print(bmw.power)\n",
    "print(bmw.model)\n"
   ]
  },
  {
   "cell_type": "code",
   "execution_count": 12,
   "metadata": {},
   "outputs": [
    {
     "name": "stdout",
     "output_type": "stream",
     "text": [
      "True\n"
     ]
    }
   ],
   "source": [
    "class Calc1:\n",
    "    def Addition(self, a, b):\n",
    "        return a + b\n",
    "\n",
    "class Calc2:\n",
    "    def Multiplication(self, a, b):\n",
    "        return a * b\n",
    "\n",
    "class Derived(Calc1, Calc2):\n",
    "    def Divide(self, a, b):\n",
    "        return a / b\n",
    "\n",
    "d = Derived()\n",
    "print(isinstance(d, Derived))\n"
   ]
  },
  {
   "cell_type": "code",
   "execution_count": 11,
   "metadata": {},
   "outputs": [
    {
     "name": "stdout",
     "output_type": "stream",
     "text": [
      "Circle Info:\n",
      "Shape: Circle\n",
      "Radius: 6\n",
      "Area: 113.09733552923255\n",
      "Perimeter: 37.69911184307752\n",
      "\n",
      "Rectangle Info:\n",
      "Shape: Rectangle\n",
      "Width: 3\n",
      "Height: 5\n",
      "Area: 15\n",
      "Perimeter: 16\n"
     ]
    }
   ],
   "source": [
    "# Base class\n",
    "import math\n",
    "\n",
    "class Shape:\n",
    "    def area(self):\n",
    "        pass\n",
    "\n",
    "    def perimeter(self):\n",
    "        pass\n",
    "\n",
    "class Circle(Shape):\n",
    "    def __init__(self, radius):\n",
    "        self.radius = radius\n",
    "\n",
    "    def area(self):\n",
    "        return math.pi * self.radius ** 2\n",
    "\n",
    "    def perimeter(self):\n",
    "        return 2 * math.pi * self.radius\n",
    "\n",
    "    def display_info(self):\n",
    "        print(f\"Shape: Circle\")\n",
    "        print(f\"Radius: {self.radius}\")\n",
    "        print(f\"Area: {self.area()}\")\n",
    "        print(f\"Perimeter: {self.perimeter()}\")\n",
    "\n",
    "class Rectangle(Shape):\n",
    "    def __init__(self, width, height):\n",
    "        self.width = width\n",
    "        self.height = height\n",
    "\n",
    "    def area(self):\n",
    "        return self.width * self.height\n",
    "\n",
    "    def perimeter(self):\n",
    "        return 2 * (self.width + self.height)\n",
    "\n",
    "    def display_info(self):\n",
    "        print(f\"Shape: Rectangle\")\n",
    "        print(f\"Width: {self.width}\")\n",
    "        print(f\"Height: {self.height}\")\n",
    "        print(f\"Area: {self.area()}\")\n",
    "        print(f\"Perimeter: {self.perimeter()}\")\n",
    "# Providing values\n",
    "circle = Circle(6)\n",
    "rectangle = Rectangle(3, 5)\n",
    "\n",
    "print(\"Circle Info:\")\n",
    "circle.display_info()\n",
    "\n",
    "print(\"\\nRectangle Info:\")\n",
    "rectangle.display_info()\n"
   ]
  },
  {
   "cell_type": "markdown",
   "metadata": {},
   "source": [
    "# Exceptional Handling :-"
   ]
  },
  {
   "cell_type": "code",
   "execution_count": 18,
   "metadata": {},
   "outputs": [
    {
     "name": "stdout",
     "output_type": "stream",
     "text": [
      "Error Occured\n",
      "15\n",
      "0\n"
     ]
    }
   ],
   "source": [
    "num1 = int(input('Enter the number'))\n",
    "num2 = int(input('Enter the number'))\n",
    "\n",
    "try:\n",
    "    print(num1/num2)       \n",
    "except:\n",
    "    print('Error Occured')\n",
    "\n",
    "print(num1)\n",
    "print(num2)"
   ]
  },
  {
   "cell_type": "code",
   "execution_count": 19,
   "metadata": {},
   "outputs": [
    {
     "name": "stdout",
     "output_type": "stream",
     "text": [
      "Do this first\n",
      "Cannot find file named people.csv\n",
      "This is in the finally block\n",
      "This is outside the try...except...else...finally\n"
     ]
    }
   ],
   "source": [
    "print('Do this first')\n",
    "try:\n",
    "    open('people.csv')\n",
    "except FileNotFoundError:\n",
    "    print('Cannot find file named people.csv')\n",
    "except Exception as e:\n",
    "    print(e)\n",
    "else:\n",
    "    print('Show this if there is no exception.')\n",
    "finally:\n",
    "    print('This is in the finally block')\n",
    "print(\"This is outside the try...except...else...finally\")"
   ]
  },
  {
   "cell_type": "code",
   "execution_count": 23,
   "metadata": {},
   "outputs": [
    {
     "name": "stdout",
     "output_type": "stream",
     "text": [
      "Savings Account Info:\n",
      "Account Number: 125355463\n",
      "Balance: 11524555.00 Rupees only\n",
      "Interest Rate: 35.00%\n",
      "\n",
      "Checking Account Info:\n",
      "Account Number: 465821244\n",
      "Balance: 74200.00 Rupees only\n",
      "Overdraft Limit: 25000.00 Rupees only\n"
     ]
    }
   ],
   "source": [
    "class InvalidTransactionError(Exception):\n",
    "    pass\n",
    "\n",
    "# Base class\n",
    "class Account:\n",
    "    def __init__(self, account_number, balance):\n",
    "        self.account_number = account_number\n",
    "        if balance < 0:\n",
    "            raise InvalidTransactionError(\"Initial balance cannot be negative.\")\n",
    "        self.balance = balance\n",
    "\n",
    "    def deposit(self, amount):\n",
    "        if amount <= 0:\n",
    "            raise InvalidTransactionError(\"Deposit amount must be positive.\")\n",
    "        self.balance += amount\n",
    "\n",
    "    def withdraw(self, amount):\n",
    "        if amount <= 0:\n",
    "            raise InvalidTransactionError(\"Withdrawal amount must be positive.\")\n",
    "        if amount > self.balance:\n",
    "            raise InvalidTransactionError(\"Insufficient amount.\")\n",
    "        self.balance -= amount\n",
    "\n",
    "    def display_info(self):\n",
    "        print(f\"Account Number: {self.account_number}\")\n",
    "        print(f\"Balance: {self.balance:.2f} Rupees only\")\n",
    "\n",
    "# Derived class for Savings Account\n",
    "class SavingsAccount(Account):\n",
    "    def __init__(self, account_number, balance, interest_rate):\n",
    "        super().__init__(account_number, balance)\n",
    "        self.interest_rate = interest_rate\n",
    "\n",
    "    def add_interest(self):\n",
    "        self.balance += self.balance * self.interest_rate\n",
    "\n",
    "    def display_info(self):\n",
    "        super().display_info()\n",
    "        print(f\"Interest Rate: {self.interest_rate * 100:.2f}%\")\n",
    "\n",
    "# Derived class for Checking Account\n",
    "class CheckingAccount(Account):\n",
    "    def __init__(self, account_number, balance, overdraft_limit):\n",
    "        super().__init__(account_number, balance)\n",
    "        self.overdraft_limit = overdraft_limit\n",
    "\n",
    "    def withdraw(self, amount):\n",
    "        if amount <= 0:\n",
    "            raise InvalidTransactionError(\"Withdrawal amount must be positive.\")\n",
    "        if amount > self.balance + self.overdraft_limit:\n",
    "            raise InvalidTransactionError(\"Overdraft limit exceeded.\")\n",
    "        self.balance -= amount\n",
    "\n",
    "    def display_info(self):\n",
    "        super().display_info()\n",
    "        print(f\"Overdraft Limit: {self.overdraft_limit:.2f} Rupees only\")\n",
    "\n",
    "# Example usage with exception handling\n",
    "try:\n",
    "    savings = SavingsAccount(\"125355463\", 11524555, 0.35)\n",
    "    checking = CheckingAccount(\"465821244\", 74200, 25000)\n",
    "\n",
    "    print(\"Savings Account Info:\")\n",
    "    savings.display_info()\n",
    "\n",
    "    print(\"\\nChecking Account Info:\")\n",
    "    checking.display_info()\n",
    "\n",
    "    savings.withdraw(2000)\n",
    "\n",
    "except InvalidTransactionError as e:\n",
    "    print(f\"Error: {e}\")\n"
   ]
  }
 ],
 "metadata": {
  "kernelspec": {
   "display_name": "Python 3",
   "language": "python",
   "name": "python3"
  },
  "language_info": {
   "codemirror_mode": {
    "name": "ipython",
    "version": 3
   },
   "file_extension": ".py",
   "mimetype": "text/x-python",
   "name": "python",
   "nbconvert_exporter": "python",
   "pygments_lexer": "ipython3",
   "version": "3.11.4"
  }
 },
 "nbformat": 4,
 "nbformat_minor": 2
}
